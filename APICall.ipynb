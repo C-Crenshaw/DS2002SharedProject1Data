{
 "cells": [
  {
   "cell_type": "code",
   "execution_count": 1,
   "id": "2ba3b21b-bd8e-4a03-99bb-f7e6c6b89c1a",
   "metadata": {},
   "outputs": [],
   "source": [
    "import os\n",
    "import json\n",
    "import pprint\n",
    "import requests\n",
    "import requests.exceptions\n",
    "import pandas as pd\n",
    "from pandas import json_normalize\n",
    "import sys"
   ]
  },
  {
   "cell_type": "code",
   "execution_count": 15,
   "id": "6a1c25e2-fb50-4775-a046-1c056bdc2a48",
   "metadata": {},
   "outputs": [
    {
     "name": "stdout",
     "output_type": "stream",
     "text": [
      "[{\"ident\":\"VX\",\"icao\":\"VRD\",\"iata\":\"VX\",\"name\":\"Virgin America\",\"founding_date\":\"2004-01-26T00:00:00Z\",\"start_date\":\"2007-08-08T00:00:00Z\",\"website\":\"https://web.archive.org/*/http://www.virginamerica.com/\"}]\n"
     ]
    }
   ],
   "source": [
    "import requests\n",
    "\n",
    "url = \"https://flightera-flight-data.p.rapidapi.com/airline/info\"\n",
    "\n",
    "querystring = {\"iata\":\"VX\"}\n",
    "\n",
    "headers = {\n",
    "\t\"X-RapidAPI-Key\": \"2ffab78e4amsh7dc108893cb1c75p1722e5jsned2882a1b4f6\",\n",
    "\t\"X-RapidAPI-Host\": \"flightera-flight-data.p.rapidapi.com\"\n",
    "}\n",
    "\n",
    "response = requests.request(\"GET\", url, headers=headers, params=querystring)\n",
    "\n",
    "print(response.text)"
   ]
  },
  {
   "cell_type": "code",
   "execution_count": null,
   "id": "eb09f46e-0229-4b2f-9ca7-e11107bc1d79",
   "metadata": {},
   "outputs": [],
   "source": [
    "\n"
   ]
  }
 ],
 "metadata": {
  "kernelspec": {
   "display_name": "Python 3 (ipykernel)",
   "language": "python",
   "name": "python3"
  },
  "language_info": {
   "codemirror_mode": {
    "name": "ipython",
    "version": 3
   },
   "file_extension": ".py",
   "mimetype": "text/x-python",
   "name": "python",
   "nbconvert_exporter": "python",
   "pygments_lexer": "ipython3",
   "version": "3.8.13"
  }
 },
 "nbformat": 4,
 "nbformat_minor": 5
}
