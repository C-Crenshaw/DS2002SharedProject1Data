{
 "cells": [
  {
   "cell_type": "code",
   "execution_count": 1,
   "id": "79b96139-a581-4b9e-8649-f56428441b87",
   "metadata": {},
   "outputs": [],
   "source": [
    "import os\n",
    "import json\n",
    "import pprint\n",
    "import requests\n",
    "import requests.exceptions\n",
    "import pandas as pd\n",
    "from pandas import json_normalize\n",
    "import sys"
   ]
  },
  {
   "cell_type": "code",
   "execution_count": 9,
   "id": "c8dcf2d2-2119-4a8d-87f2-367e765924a6",
   "metadata": {},
   "outputs": [
    {
     "name": "stdout",
     "output_type": "stream",
     "text": [
      "[{\"ident\":\"VX\",\"icao\":\"VRD\",\"iata\":\"VX\",\"name\":\"Virgin America\",\"founding_date\":\"2004-01-26T00:00:00Z\",\"start_date\":\"2007-08-08T00:00:00Z\",\"website\":\"https://web.archive.org/*/http://www.virginamerica.com/\"}]\n"
     ]
    }
   ],
   "source": [
    "import requests\n",
    "\n",
    "try:\n",
    "\n",
    "    url = \"https://flightera-flight-data.p.rapidapi.com/airline/info\"\n",
    "\n",
    "    querystring = {\"iata\":\"VX\"}\n",
    "\n",
    "    headers = {\n",
    "        \"X-RapidAPI-Key\": \"2ffab78e4amsh7dc108893cb1c75p1722e5jsned2882a1b4f6\",\n",
    "        \"X-RapidAPI-Host\": \"flightera-flight-data.p.rapidapi.com\"\n",
    "    }\n",
    "\n",
    "    response = requests.request(\"GET\", url, headers=headers, params=querystring)\n",
    "\n",
    "    print(response.text)\n",
    "    \n",
    "except requests.exceptions.ConnectionError:\n",
    "    print(\"Error Connecting to the API\")\n",
    "except requests.exceptions.RequestException:\n",
    "    print(\"Timeout Error has occurred\")\n",
    "except requests.exceptions.MissingSchema:\n",
    "    print(\"Missing Schema: http or https\")\n"
   ]
  },
  {
   "cell_type": "code",
   "execution_count": null,
   "id": "4165d2ea-1900-4965-b0af-e424217400a1",
   "metadata": {},
   "outputs": [],
   "source": []
  }
 ],
 "metadata": {
  "kernelspec": {
   "display_name": "Python 3 (ipykernel)",
   "language": "python",
   "name": "python3"
  },
  "language_info": {
   "codemirror_mode": {
    "name": "ipython",
    "version": 3
   },
   "file_extension": ".py",
   "mimetype": "text/x-python",
   "name": "python",
   "nbconvert_exporter": "python",
   "pygments_lexer": "ipython3",
   "version": "3.8.13"
  }
 },
 "nbformat": 4,
 "nbformat_minor": 5
}
