{
 "cells": [
  {
   "cell_type": "code",
   "execution_count": 31,
   "id": "79b96139-a581-4b9e-8649-f56428441b87",
   "metadata": {},
   "outputs": [],
   "source": [
    "import os\n",
    "import json\n",
    "import pprint\n",
    "import requests\n",
    "import requests.exceptions\n",
    "import pandas as pd\n",
    "from pandas import json_normalize\n",
    "import sys"
   ]
  },
  {
   "cell_type": "code",
   "execution_count": 37,
   "id": "45e3b042-950e-4b5e-b841-2b7afc31442d",
   "metadata": {},
   "outputs": [
    {
     "name": "stdout",
     "output_type": "stream",
     "text": [
      "{\"message\":\"You have exceeded the MONTHLY quota for Information & Status on your current plan, BASIC. Upgrade your plan at https:\\/\\/rapidapi.com\\/flightera\\/api\\/flightera-flight-data\"}\n"
     ]
    }
   ],
   "source": [
    "# Base code for generating an API call\n",
    "import requests\n",
    "\n",
    "url = \"https://flightera-flight-data.p.rapidapi.com/airline/info\"\n",
    "\n",
    "querystring = {\"iata\":\"AA\"}\n",
    "\n",
    "headers = {\n",
    "\t\"X-RapidAPI-Key\": \"2ffab78e4amsh7dc108893cb1c75p1722e5jsned2882a1b4f6\",\n",
    "\t\"X-RapidAPI-Host\": \"flightera-flight-data.p.rapidapi.com\"\n",
    "}\n",
    "\n",
    "response = requests.request(\"GET\", url, headers=headers, params=querystring)\n",
    "\n",
    "print(response.text)"
   ]
  },
  {
   "cell_type": "code",
   "execution_count": null,
   "id": "c8dcf2d2-2119-4a8d-87f2-367e765924a6",
   "metadata": {},
   "outputs": [],
   "source": [
    "# Function used to generate json information for input to SQL data dimension\n",
    "# Json file (below) used to generate MySQL table before monthly quota was reached\n",
    "import requests\n",
    "def api_function(airlinecode):\n",
    "    url = \"https://flightera-flight-data.p.rapidapi.com/airline/info\"\n",
    "        # print info\n",
    "    for x in airlinecode:\n",
    "        try:\n",
    "            url = \"https://flightera-flight-data.p.rapidapi.com/airline/info\"\n",
    "\n",
    "            querystring = {\"iata\":x}\n",
    "\n",
    "            headers = {\n",
    "                \"X-RapidAPI-Key\": \"5070d387a1mshd3c9dbd558b6bc2p1671c4jsn9c385297abfc\",\n",
    "                \"X-RapidAPI-Host\": \"flightera-flight-data.p.rapidapi.com\"\n",
    "            }\n",
    "\n",
    "            response = requests.request(\"GET\", url, headers=headers, params=querystring)\n",
    "        \n",
    "        # Include error messages\n",
    "        except requests.exceptions.ConnectionError:\n",
    "            return \"Error Connecting to the API\"\n",
    "        except requests.exceptions.RequestException:\n",
    "            return \"Timeout Error has occurred\"\n",
    "        except requests.exceptions.MissingSchema:\n",
    "            return \"Missing Schema: http or https\"\n",
    "            \n",
    "        print(response.text)\n",
    "\n",
    "\n",
    "api_function([\"UA\",\"AA\",\"F9\",\"B6\",\"OO\",\"AS\",\"NK\",\"WN\",\"DL\",\"EV\",\"HA\",\"MQ\",\"VX\"])"
   ]
  },
  {
   "cell_type": "code",
   "execution_count": null,
   "id": "4165d2ea-1900-4965-b0af-e424217400a1",
   "metadata": {},
   "outputs": [],
   "source": []
  },
  {
   "cell_type": "code",
   "execution_count": null,
   "id": "173695f6-8f9d-4b0b-87b7-a961e6da2b36",
   "metadata": {},
   "outputs": [],
   "source": []
  }
 ],
 "metadata": {
  "kernelspec": {
   "display_name": "Python 3 (ipykernel)",
   "language": "python",
   "name": "python3"
  },
  "language_info": {
   "codemirror_mode": {
    "name": "ipython",
    "version": 3
   },
   "file_extension": ".py",
   "mimetype": "text/x-python",
   "name": "python",
   "nbconvert_exporter": "python",
   "pygments_lexer": "ipython3",
   "version": "3.8.13"
  }
 },
 "nbformat": 4,
 "nbformat_minor": 5
}
