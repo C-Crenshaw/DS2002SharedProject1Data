{
 "cells": [
  {
   "cell_type": "code",
   "execution_count": 1,
   "id": "2ba3b21b-bd8e-4a03-99bb-f7e6c6b89c1a",
   "metadata": {},
   "outputs": [],
   "source": [
    "import os\n",
    "import json\n",
    "import pprint\n",
    "import requests\n",
    "import requests.exceptions\n",
    "import pandas as pd\n",
    "from pandas import json_normalize\n",
    "import sys"
   ]
  },
  {
   "cell_type": "code",
   "execution_count": null,
   "id": "8ffd4f82-41d6-4e69-bb7f-2219d6c8bed1",
   "metadata": {},
   "outputs": [],
   "source": [
    "#API pulled from https://rapidapi.com/flightera/api/flightera-flight-data/"
   ]
  },
  {
   "cell_type": "code",
   "execution_count": 8,
   "id": "6a1c25e2-fb50-4775-a046-1c056bdc2a48",
   "metadata": {},
   "outputs": [
    {
     "name": "stdout",
     "output_type": "stream",
     "text": [
      "[{\"ident\":\"AA\",\"icao\":\"AAL\",\"iata\":\"AA\",\"name\":\"American Airlines\",\"callsign\":\"AMERICAN\",\"country\":\"US\",\"founding_date\":\"1926-04-15T00:00:00Z\",\"start_date\":\"1936-06-25T00:00:00Z\",\"website\":\"http://aa.com\",\"alliance\":\"Oneworld\"}]\n"
     ]
    }
   ],
   "source": [
    "# Base code for generating an API call\n",
    "import requests\n",
    "\n",
    "url = \"https://flightera-flight-data.p.rapidapi.com/airline/info\"\n",
    "\n",
    "querystring = {\"iata\":\"AA\"}\n",
    "\n",
    "headers = {\n",
    "\t\"X-RapidAPI-Key\": \"2ffab78e4amsh7dc108893cb1c75p1722e5jsned2882a1b4f6\",\n",
    "\t\"X-RapidAPI-Host\": \"flightera-flight-data.p.rapidapi.com\"\n",
    "}\n",
    "\n",
    "response = requests.request(\"GET\", url, headers=headers, params=querystring)\n",
    "\n",
    "print(response.text)"
   ]
  },
  {
   "cell_type": "code",
   "execution_count": 13,
   "id": "eb09f46e-0229-4b2f-9ca7-e11107bc1d79",
   "metadata": {},
   "outputs": [
    {
     "name": "stdout",
     "output_type": "stream",
     "text": [
      "[{\"ident\":\"UA\",\"icao\":\"UAL\",\"iata\":\"UA\",\"name\":\"United Airlines\",\"callsign\":\"UNITED\",\"country\":\"US\",\"founding_date\":\"1926-04-06T00:00:00Z\",\"start_date\":\"1931-03-28T00:00:00Z\",\"website\":\"https://united.com\",\"alliance\":\"Star Alliance\"}]\n",
      "[{\"ident\":\"AA\",\"icao\":\"AAL\",\"iata\":\"AA\",\"name\":\"American Airlines\",\"callsign\":\"AMERICAN\",\"country\":\"US\",\"founding_date\":\"1926-04-15T00:00:00Z\",\"start_date\":\"1936-06-25T00:00:00Z\",\"website\":\"http://aa.com\",\"alliance\":\"Oneworld\"}]\n",
      "{\"Error\":\"No airline found. If you have any questions, please contact us at data@flightera.net with your RapidAPI username and attempted query.\"}\n",
      "[{\"ident\":\"F9\",\"icao\":\"FFT\",\"iata\":\"F9\",\"name\":\"Frontier Airlines\",\"callsign\":\"FRONTIER FLIGHT\",\"country\":\"US\",\"founding_date\":\"1994-02-08T00:00:00Z\",\"start_date\":\"1994-07-05T00:00:00Z\",\"website\":\"http://flyfrontier.com\"}]\n",
      "[{\"ident\":\"B6\",\"icao\":\"JBU\",\"iata\":\"B6\",\"name\":\"JetBlue Airways\",\"callsign\":\"JETBLUE\",\"country\":\"US\",\"founding_date\":\"1998-08-01T00:00:00Z\",\"start_date\":\"2000-02-11T00:00:00Z\",\"website\":\"http://jetblue.com\"}]\n",
      "{\"message\":\"You have exceeded the MONTHLY quota for Information & Status on your current plan, BASIC. Upgrade your plan at https:\\/\\/rapidapi.com\\/flightera\\/api\\/flightera-flight-data\"}\n",
      "{\"message\":\"You have exceeded the MONTHLY quota for Information & Status on your current plan, BASIC. Upgrade your plan at https:\\/\\/rapidapi.com\\/flightera\\/api\\/flightera-flight-data\"}\n",
      "{\"message\":\"You have exceeded the MONTHLY quota for Information & Status on your current plan, BASIC. Upgrade your plan at https:\\/\\/rapidapi.com\\/flightera\\/api\\/flightera-flight-data\"}\n",
      "{\"message\":\"You have exceeded the MONTHLY quota for Information & Status on your current plan, BASIC. Upgrade your plan at https:\\/\\/rapidapi.com\\/flightera\\/api\\/flightera-flight-data\"}\n",
      "{\"message\":\"You have exceeded the MONTHLY quota for Information & Status on your current plan, BASIC. Upgrade your plan at https:\\/\\/rapidapi.com\\/flightera\\/api\\/flightera-flight-data\"}\n",
      "{\"message\":\"You have exceeded the MONTHLY quota for Information & Status on your current plan, BASIC. Upgrade your plan at https:\\/\\/rapidapi.com\\/flightera\\/api\\/flightera-flight-data\"}\n",
      "{\"message\":\"You have exceeded the MONTHLY quota for Information & Status on your current plan, BASIC. Upgrade your plan at https:\\/\\/rapidapi.com\\/flightera\\/api\\/flightera-flight-data\"}\n",
      "{\"message\":\"You have exceeded the MONTHLY quota for Information & Status on your current plan, BASIC. Upgrade your plan at https:\\/\\/rapidapi.com\\/flightera\\/api\\/flightera-flight-data\"}\n",
      "{\"message\":\"You have exceeded the MONTHLY quota for Information & Status on your current plan, BASIC. Upgrade your plan at https:\\/\\/rapidapi.com\\/flightera\\/api\\/flightera-flight-data\"}\n"
     ]
    }
   ],
   "source": [
    "# Function used to generate json information for input to SQL data dimension\n",
    "# Json file (below) used to generate MySQL table before monthly quota was reached\n",
    "import requests\n",
    "def api_function(airlinecode):\n",
    "    url = \"https://flightera-flight-data.p.rapidapi.com/airline/info\"\n",
    "        # print info\n",
    "    for x in airlinecode:\n",
    "        url = \"https://flightera-flight-data.p.rapidapi.com/airline/info\"\n",
    "\n",
    "        querystring = {\"iata\":x}\n",
    "\n",
    "        headers = {\n",
    "            \"X-RapidAPI-Key\": \"2ffab78e4amsh7dc108893cb1c75p1722e5jsned2882a1b4f6\",\n",
    "            \"X-RapidAPI-Host\": \"flightera-flight-data.p.rapidapi.com\"\n",
    "        }\n",
    "\n",
    "        response = requests.request(\"GET\", url, headers=headers, params=querystring)\n",
    "        \n",
    "        # Include error messages\n",
    "        except requests.exceptions.ConnectionError:\n",
    "            print(\"Error Connecting to the API\")\n",
    "        except requests.exceptions.RequestException:\n",
    "            print(\"Timeout Error has occurred\")\n",
    "        except requests.exceptions.MissingSchema:\n",
    "            print(\"Missing Schema: http or https\")\n",
    "            \n",
    "        print(response.text)\n",
    "\n",
    "\n",
    "api_function([\"UA\",\"AA\",\"F9\",\"B6\",\"OO\",\"AS\",\"NK\",\"WN\",\"DL\",\"EV\",\"HA\",\"MQ\",\"VX\"])"
   ]
  },
  {
   "cell_type": "code",
   "execution_count": null,
   "id": "50ff7501-da9a-4eb1-9733-8bed20580b3f",
   "metadata": {},
   "outputs": [],
   "source": []
  }
 ],
 "metadata": {
  "kernelspec": {
   "display_name": "Python 3 (ipykernel)",
   "language": "python",
   "name": "python3"
  },
  "language_info": {
   "codemirror_mode": {
    "name": "ipython",
    "version": 3
   },
   "file_extension": ".py",
   "mimetype": "text/x-python",
   "name": "python",
   "nbconvert_exporter": "python",
   "pygments_lexer": "ipython3",
   "version": "3.8.13"
  }
 },
 "nbformat": 4,
 "nbformat_minor": 5
}
