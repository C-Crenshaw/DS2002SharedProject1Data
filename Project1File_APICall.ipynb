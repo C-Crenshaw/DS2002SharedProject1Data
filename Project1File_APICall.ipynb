{
 "cells": [
  {
   "cell_type": "code",
   "execution_count": 39,
   "id": "2ba3b21b-bd8e-4a03-99bb-f7e6c6b89c1a",
   "metadata": {},
   "outputs": [],
   "source": [
    "import os\n",
    "import json\n",
    "import pprint\n",
    "import requests\n",
    "import requests.exceptions\n",
    "import pandas as pd\n",
    "from pandas import json_normalize\n",
    "import sys"
   ]
  },
  {
   "cell_type": "code",
   "execution_count": null,
   "id": "8ffd4f82-41d6-4e69-bb7f-2219d6c8bed1",
   "metadata": {},
   "outputs": [],
   "source": [
    "#API pulled from https://rapidapi.com/flightera/api/flightera-flight-data/"
   ]
  },
  {
   "cell_type": "code",
   "execution_count": 8,
   "id": "6a1c25e2-fb50-4775-a046-1c056bdc2a48",
   "metadata": {},
   "outputs": [
    {
     "name": "stdout",
     "output_type": "stream",
     "text": [
      "[{\"ident\":\"AA\",\"icao\":\"AAL\",\"iata\":\"AA\",\"name\":\"American Airlines\",\"callsign\":\"AMERICAN\",\"country\":\"US\",\"founding_date\":\"1926-04-15T00:00:00Z\",\"start_date\":\"1936-06-25T00:00:00Z\",\"website\":\"http://aa.com\",\"alliance\":\"Oneworld\"}]\n"
     ]
    }
   ],
   "source": [
    "# Base code for generating an API call\n",
    "import requests\n",
    "\n",
    "url = \"https://flightera-flight-data.p.rapidapi.com/airline/info\"\n",
    "\n",
    "querystring = {\"iata\":\"AA\"}\n",
    "\n",
    "headers = {\n",
    "\t\"X-RapidAPI-Key\": \"2ffab78e4amsh7dc108893cb1c75p1722e5jsned2882a1b4f6\",\n",
    "\t\"X-RapidAPI-Host\": \"flightera-flight-data.p.rapidapi.com\"\n",
    "}\n",
    "\n",
    "response = requests.request(\"GET\", url, headers=headers, params=querystring)\n",
    "\n",
    "print(response.text)"
   ]
  },
  {
   "cell_type": "code",
   "execution_count": 46,
   "id": "eb09f46e-0229-4b2f-9ca7-e11107bc1d79",
   "metadata": {},
   "outputs": [
    {
     "name": "stdout",
     "output_type": "stream",
     "text": [
      "[{\"ident\":\"UA\",\"icao\":\"UAL\",\"iata\":\"UA\",\"name\":\"United Airlines\",\"callsign\":\"UNITED\",\"country\":\"US\",\"founding_date\":\"1926-04-06T00:00:00Z\",\"start_date\":\"1931-03-28T00:00:00Z\",\"website\":\"https://united.com\",\"alliance\":\"Star Alliance\"}]\n",
      "[{\"ident\":\"AA\",\"icao\":\"AAL\",\"iata\":\"AA\",\"name\":\"American Airlines\",\"callsign\":\"AMERICAN\",\"country\":\"US\",\"founding_date\":\"1926-04-15T00:00:00Z\",\"start_date\":\"1936-06-25T00:00:00Z\",\"website\":\"http://aa.com\",\"alliance\":\"Oneworld\"}]\n",
      "[{\"ident\":\"F9\",\"icao\":\"FFT\",\"iata\":\"F9\",\"name\":\"Frontier Airlines\",\"callsign\":\"FRONTIER FLIGHT\",\"country\":\"US\",\"founding_date\":\"1994-02-08T00:00:00Z\",\"start_date\":\"1994-07-05T00:00:00Z\",\"website\":\"http://flyfrontier.com\"}]\n",
      "[{\"ident\":\"B6\",\"icao\":\"JBU\",\"iata\":\"B6\",\"name\":\"JetBlue Airways\",\"callsign\":\"JETBLUE\",\"country\":\"US\",\"founding_date\":\"1998-08-01T00:00:00Z\",\"start_date\":\"2000-02-11T00:00:00Z\",\"website\":\"http://jetblue.com\"}]\n",
      "[{\"ident\":\"OO\",\"icao\":\"SKW\",\"iata\":\"OO\",\"name\":\"SkyWest Airlines\",\"callsign\":\"SKYWEST\",\"country\":\"US\",\"founding_date\":\"1972-04-26T00:00:00Z\",\"website\":\"https://skywest.com/\",\"alliance\":\"SkyTeam(as Delta Connection)\\nStar Alliance(as United Express)\\nOneworld(as American Eagle)\"}]\n",
      "[{\"ident\":\"AS\",\"icao\":\"ASA\",\"iata\":\"AS\",\"name\":\"Alaska Airlines\",\"callsign\":\"ALASKA\",\"country\":\"US\",\"founding_date\":\"1932-04-14T00:00:00Z\",\"start_date\":\"1944-06-06T00:00:00Z\",\"website\":\"http://alaskaair.com\",\"alliance\":\"Oneworld\"}]\n",
      "[{\"ident\":\"NK\",\"icao\":\"NKS\",\"iata\":\"NK\",\"name\":\"Spirit Airlines\",\"callsign\":\"SPIRIT WINGS\",\"country\":\"US\",\"founding_date\":\"1983-01-01T00:00:00Z\",\"start_date\":\"1990-01-01T00:00:00Z\",\"website\":\"http://spirit.com\"}]\n",
      "[{\"ident\":\"WN\",\"icao\":\"SWA\",\"iata\":\"WN\",\"name\":\"Southwest Airlines\",\"callsign\":\"SOUTHWEST\",\"country\":\"US\",\"founding_date\":\"1967-03-15T00:00:00Z\",\"start_date\":\"1971-06-18T00:00:00Z\",\"website\":\"http://southwest.com\"}]\n",
      "[{\"ident\":\"DL\",\"icao\":\"DAL\",\"iata\":\"DL\",\"name\":\"Delta Air Lines\",\"callsign\":\"DELTA\",\"country\":\"US\",\"founding_date\":\"1925-03-02T00:00:00Z\",\"start_date\":\"1929-06-17T00:00:00Z\",\"website\":\"http://delta.com\",\"alliance\":\"SkyTeam/SkyTeam Cargo\"}]\n",
      "[{\"ident\":\"EV\",\"icao\":\"ASQ\",\"iata\":\"EV\",\"name\":\"ExpressJet Airlines\",\"callsign\":\"ACEY\",\"country\":\"US\",\"founding_date\":\"1986-01-01T00:00:00Z\",\"start_date\":\"1987-01-01T00:00:00Z\",\"website\":\"http://www.expressjet.com/\",\"alliance\":\"Star Alliance(United Express)\"}]\n",
      "[{\"ident\":\"HA\",\"icao\":\"HAL\",\"iata\":\"HA\",\"name\":\"Hawaiian Airlines\",\"callsign\":\"HAWAIIAN\",\"country\":\"US\",\"founding_date\":\"1929-01-30T00:00:00Z\",\"start_date\":\"1929-10-06T00:00:00Z\",\"website\":\"http://hawaiianairlines.com\"}]\n",
      "[{\"ident\":\"EGF\",\"icao\":\"EGF\",\"iata\":\"MQ\",\"name\":\"American Eagle\",\"callsign\":\"EAGLEFLIGHT\",\"country\":\"US\"},{\"ident\":\"MQ\",\"icao\":\"ENY\",\"iata\":\"MQ\",\"name\":\"Envoy\",\"callsign\":\"ENVOY\",\"country\":\"US\"}]\n",
      "[{\"ident\":\"VX\",\"icao\":\"VRD\",\"iata\":\"VX\",\"name\":\"Virgin America\",\"founding_date\":\"2004-01-26T00:00:00Z\",\"start_date\":\"2007-08-08T00:00:00Z\",\"website\":\"https://web.archive.org/*/http://www.virginamerica.com/\"}]\n"
     ]
    }
   ],
   "source": [
    "# Function used to generate json information for input to SQL data dimension\n",
    "# Json file (below) used to generate MySQL table before monthly quota was reached\n",
    "import requests\n",
    "def api_function(airlinecode):\n",
    "        # print info\n",
    "    for x in airlinecode:\n",
    "        try:\n",
    "            url = \"https://flightera-flight-data.p.rapidapi.com/airline/info\"\n",
    "\n",
    "            querystring = {\"iata\":x}\n",
    "\n",
    "            headers = {\n",
    "                \"X-RapidAPI-Key\": \"e164cd115fmsh41b31b2751d0339p1b7c34jsnac5ccf392354\",\n",
    "                \"X-RapidAPI-Host\": \"flightera-flight-data.p.rapidapi.com\"\n",
    "            }\n",
    "\n",
    "            response = requests.request(\"GET\", url, headers=headers, params=querystring)\n",
    "        \n",
    "        # Include error messages\n",
    "        except requests.exceptions.ConnectionError:\n",
    "            return \"Error Connecting to the API\"\n",
    "        except requests.exceptions.RequestException:\n",
    "            return \"Timeout Error has occurred\"\n",
    "        except requests.exceptions.MissingSchema:\n",
    "            return \"Missing Schema: http or https\"\n",
    "            \n",
    "        print(response.text)\n",
    "        \n",
    "api_function([\"UA\",\"AA\",\"F9\",\"B6\",\"OO\",\"AS\",\"NK\",\"WN\",\"DL\",\"EV\",\"HA\",\"MQ\",\"VX\"])"
   ]
  },
  {
   "cell_type": "code",
   "execution_count": null,
   "id": "50ff7501-da9a-4eb1-9733-8bed20580b3f",
   "metadata": {},
   "outputs": [],
   "source": []
  },
  {
   "cell_type": "code",
   "execution_count": null,
   "id": "81913793-0428-4d38-9cc6-0d2d89108269",
   "metadata": {},
   "outputs": [],
   "source": []
  }
 ],
 "metadata": {
  "kernelspec": {
   "display_name": "Python 3 (ipykernel)",
   "language": "python",
   "name": "python3"
  },
  "language_info": {
   "codemirror_mode": {
    "name": "ipython",
    "version": 3
   },
   "file_extension": ".py",
   "mimetype": "text/x-python",
   "name": "python",
   "nbconvert_exporter": "python",
   "pygments_lexer": "ipython3",
   "version": "3.8.13"
  }
 },
 "nbformat": 4,
 "nbformat_minor": 5
}
